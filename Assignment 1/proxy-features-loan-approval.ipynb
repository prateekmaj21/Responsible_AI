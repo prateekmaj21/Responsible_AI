{
 "cells": [
  {
   "cell_type": "markdown",
   "id": "7737b15d",
   "metadata": {
    "_cell_guid": "b1076dfc-b9ad-4769-8c92-a6c4dae69d19",
    "_uuid": "8f2839f25d086af736a60e9eeb907d3b93b6e0e5",
    "papermill": {
     "duration": 0.004373,
     "end_time": "2025-02-18T16:47:02.294232",
     "exception": false,
     "start_time": "2025-02-18T16:47:02.289859",
     "status": "completed"
    },
    "tags": []
   },
   "source": [
    "**\"Proxy features\"** in AI ethics are known as the hidden biases in data which the model learns and uses in the predictions or outcomes. Even if an AI model does not explicitly incorporate protected characteristics such as race, gender, or income, it can make use of other data points-colour discrimination, which would indirectly represent these characteristics-such as ZIP codes, job titles, or buying behaviour. Such problems can result in discriminatory decisions, even if discrimination is not their goal. It is the risk of AI giving conflicting judgments and unfairly evaluating individuals on some indirect signal. Thus, fairness and transparency are two main concerns in AI development. "
   ]
  },
  {
   "cell_type": "markdown",
   "id": "5e27aa88",
   "metadata": {
    "papermill": {
     "duration": 0.003348,
     "end_time": "2025-02-18T16:47:02.301517",
     "exception": false,
     "start_time": "2025-02-18T16:47:02.298169",
     "status": "completed"
    },
    "tags": []
   },
   "source": [
    "## Variance Inflation Factor (VIF)\n",
    "\n",
    "1. VIF looks at the coefficient of determination (R2), for each explanatoryvariable. This method is widely used to remove collinear or multicollinear features during any statistical modelling.\n",
    "   \n",
    "2. This method can also be used to detect andremove features that are proxies to a given protected/sensitive features. \n",
    "3. Typically, this is used for dropping multicollinear (redundant) features. VIF internally developsmultiple regression among all features and returns the list of features that arecorrelated.\n"
   ]
  },
  {
   "cell_type": "code",
   "execution_count": 1,
   "id": "b0aa6fd6",
   "metadata": {
    "execution": {
     "iopub.execute_input": "2025-02-18T16:47:02.309862Z",
     "iopub.status.busy": "2025-02-18T16:47:02.309445Z",
     "iopub.status.idle": "2025-02-18T16:47:05.040882Z",
     "shell.execute_reply": "2025-02-18T16:47:05.039587Z"
    },
    "papermill": {
     "duration": 2.737855,
     "end_time": "2025-02-18T16:47:05.042872",
     "exception": false,
     "start_time": "2025-02-18T16:47:02.305017",
     "status": "completed"
    },
    "tags": []
   },
   "outputs": [
    {
     "name": "stdout",
     "output_type": "stream",
     "text": [
      "/kaggle/input/loan-approvals/loan_data.csv\n"
     ]
    }
   ],
   "source": [
    "import seaborn as sns\n",
    "import os\n",
    "for dirname, _, filenames in os.walk('/kaggle/input'):\n",
    "    for filename in filenames:\n",
    "        print(os.path.join(dirname, filename))"
   ]
  },
  {
   "cell_type": "code",
   "execution_count": 2,
   "id": "9c04c10d",
   "metadata": {
    "execution": {
     "iopub.execute_input": "2025-02-18T16:47:05.052238Z",
     "iopub.status.busy": "2025-02-18T16:47:05.051719Z",
     "iopub.status.idle": "2025-02-18T16:47:05.181705Z",
     "shell.execute_reply": "2025-02-18T16:47:05.180606Z"
    },
    "papermill": {
     "duration": 0.136894,
     "end_time": "2025-02-18T16:47:05.183802",
     "exception": false,
     "start_time": "2025-02-18T16:47:05.046908",
     "status": "completed"
    },
    "tags": []
   },
   "outputs": [],
   "source": [
    "import pandas as pd\n",
    "import numpy as np\n",
    "from statsmodels.stats.outliers_influence import variance_inflation_factor\n",
    "from statsmodels.tools.tools import add_constant"
   ]
  },
  {
   "cell_type": "code",
   "execution_count": 3,
   "id": "62474014",
   "metadata": {
    "execution": {
     "iopub.execute_input": "2025-02-18T16:47:05.192786Z",
     "iopub.status.busy": "2025-02-18T16:47:05.192397Z",
     "iopub.status.idle": "2025-02-18T16:47:05.213811Z",
     "shell.execute_reply": "2025-02-18T16:47:05.212791Z"
    },
    "papermill": {
     "duration": 0.027895,
     "end_time": "2025-02-18T16:47:05.215643",
     "exception": false,
     "start_time": "2025-02-18T16:47:05.187748",
     "status": "completed"
    },
    "tags": []
   },
   "outputs": [],
   "source": [
    "df= pd.read_csv(\"/kaggle/input/loan-approvals/loan_data.csv\")"
   ]
  },
  {
   "cell_type": "code",
   "execution_count": 4,
   "id": "511887cd",
   "metadata": {
    "execution": {
     "iopub.execute_input": "2025-02-18T16:47:05.224741Z",
     "iopub.status.busy": "2025-02-18T16:47:05.224346Z",
     "iopub.status.idle": "2025-02-18T16:47:05.256772Z",
     "shell.execute_reply": "2025-02-18T16:47:05.255503Z"
    },
    "papermill": {
     "duration": 0.038889,
     "end_time": "2025-02-18T16:47:05.258577",
     "exception": false,
     "start_time": "2025-02-18T16:47:05.219688",
     "status": "completed"
    },
    "tags": []
   },
   "outputs": [
    {
     "name": "stdout",
     "output_type": "stream",
     "text": [
      "<class 'pandas.core.frame.DataFrame'>\n",
      "RangeIndex: 614 entries, 0 to 613\n",
      "Data columns (total 12 columns):\n",
      " #   Column              Non-Null Count  Dtype  \n",
      "---  ------              --------------  -----  \n",
      " 0   Gender              601 non-null    object \n",
      " 1   Married             611 non-null    object \n",
      " 2   Dependents          599 non-null    object \n",
      " 3   Education           614 non-null    object \n",
      " 4   Self_Employed       582 non-null    object \n",
      " 5   Applicant_Income    614 non-null    int64  \n",
      " 6   Coapplicant_Income  614 non-null    float64\n",
      " 7   Loan_Amount         614 non-null    int64  \n",
      " 8   Term                600 non-null    float64\n",
      " 9   Credit_History      564 non-null    float64\n",
      " 10  Area                614 non-null    object \n",
      " 11  Status              614 non-null    object \n",
      "dtypes: float64(3), int64(2), object(7)\n",
      "memory usage: 57.7+ KB\n"
     ]
    }
   ],
   "source": [
    "df.info()"
   ]
  },
  {
   "cell_type": "code",
   "execution_count": 5,
   "id": "20668acf",
   "metadata": {
    "execution": {
     "iopub.execute_input": "2025-02-18T16:47:05.267992Z",
     "iopub.status.busy": "2025-02-18T16:47:05.267633Z",
     "iopub.status.idle": "2025-02-18T16:47:05.274845Z",
     "shell.execute_reply": "2025-02-18T16:47:05.273889Z"
    },
    "papermill": {
     "duration": 0.013988,
     "end_time": "2025-02-18T16:47:05.276699",
     "exception": false,
     "start_time": "2025-02-18T16:47:05.262711",
     "status": "completed"
    },
    "tags": []
   },
   "outputs": [],
   "source": [
    "df=df.dropna()"
   ]
  },
  {
   "cell_type": "code",
   "execution_count": 6,
   "id": "01ae40ad",
   "metadata": {
    "execution": {
     "iopub.execute_input": "2025-02-18T16:47:05.285737Z",
     "iopub.status.busy": "2025-02-18T16:47:05.285350Z",
     "iopub.status.idle": "2025-02-18T16:47:05.297800Z",
     "shell.execute_reply": "2025-02-18T16:47:05.296757Z"
    },
    "papermill": {
     "duration": 0.019077,
     "end_time": "2025-02-18T16:47:05.299745",
     "exception": false,
     "start_time": "2025-02-18T16:47:05.280668",
     "status": "completed"
    },
    "tags": []
   },
   "outputs": [],
   "source": [
    "# Convert categorical columns to numerical using one-hot encoding\n",
    "df_encoded = pd.get_dummies(df, drop_first=True)"
   ]
  },
  {
   "cell_type": "code",
   "execution_count": 7,
   "id": "497c01d3",
   "metadata": {
    "execution": {
     "iopub.execute_input": "2025-02-18T16:47:05.308760Z",
     "iopub.status.busy": "2025-02-18T16:47:05.308338Z",
     "iopub.status.idle": "2025-02-18T16:47:05.313507Z",
     "shell.execute_reply": "2025-02-18T16:47:05.312417Z"
    },
    "papermill": {
     "duration": 0.011621,
     "end_time": "2025-02-18T16:47:05.315271",
     "exception": false,
     "start_time": "2025-02-18T16:47:05.303650",
     "status": "completed"
    },
    "tags": []
   },
   "outputs": [],
   "source": [
    "# Ensure all data is numeric\n",
    "df_encoded = df_encoded.astype(float)"
   ]
  },
  {
   "cell_type": "code",
   "execution_count": 8,
   "id": "0ae8d914",
   "metadata": {
    "execution": {
     "iopub.execute_input": "2025-02-18T16:47:05.324702Z",
     "iopub.status.busy": "2025-02-18T16:47:05.324312Z",
     "iopub.status.idle": "2025-02-18T16:47:05.339915Z",
     "shell.execute_reply": "2025-02-18T16:47:05.338875Z"
    },
    "papermill": {
     "duration": 0.022236,
     "end_time": "2025-02-18T16:47:05.341801",
     "exception": false,
     "start_time": "2025-02-18T16:47:05.319565",
     "status": "completed"
    },
    "tags": []
   },
   "outputs": [],
   "source": [
    "# Add constant column (required for VIF computation)\n",
    "X = add_constant(df_encoded)"
   ]
  },
  {
   "cell_type": "code",
   "execution_count": 9,
   "id": "574897bb",
   "metadata": {
    "execution": {
     "iopub.execute_input": "2025-02-18T16:47:05.350996Z",
     "iopub.status.busy": "2025-02-18T16:47:05.350652Z",
     "iopub.status.idle": "2025-02-18T16:47:05.417088Z",
     "shell.execute_reply": "2025-02-18T16:47:05.415951Z"
    },
    "papermill": {
     "duration": 0.073336,
     "end_time": "2025-02-18T16:47:05.419163",
     "exception": false,
     "start_time": "2025-02-18T16:47:05.345827",
     "status": "completed"
    },
    "tags": []
   },
   "outputs": [],
   "source": [
    "# Compute VIF for each feature\n",
    "vif_data = pd.DataFrame()\n",
    "vif_data['Variable'] = X.columns\n",
    "vif_data['VIF'] = [variance_inflation_factor(X.values, i) for i in range(X.shape[1])]"
   ]
  },
  {
   "cell_type": "code",
   "execution_count": 10,
   "id": "69d5f54a",
   "metadata": {
    "execution": {
     "iopub.execute_input": "2025-02-18T16:47:05.428085Z",
     "iopub.status.busy": "2025-02-18T16:47:05.427739Z",
     "iopub.status.idle": "2025-02-18T16:47:05.439217Z",
     "shell.execute_reply": "2025-02-18T16:47:05.438001Z"
    },
    "papermill": {
     "duration": 0.017868,
     "end_time": "2025-02-18T16:47:05.440952",
     "exception": false,
     "start_time": "2025-02-18T16:47:05.423084",
     "status": "completed"
    },
    "tags": []
   },
   "outputs": [
    {
     "name": "stdout",
     "output_type": "stream",
     "text": [
      "                  Variable        VIF\n",
      "0                    const  50.704496\n",
      "1         Applicant_Income   1.419236\n",
      "2       Coapplicant_Income   1.136774\n",
      "3              Loan_Amount   1.477853\n",
      "4                     Term   1.052287\n",
      "5           Credit_History   1.400720\n",
      "6              Gender_Male   1.208174\n",
      "7              Married_Yes   1.370920\n",
      "8             Dependents_1   1.207056\n",
      "9             Dependents_2   1.250409\n",
      "10           Dependents_3+   1.171462\n",
      "11  Education_Not Graduate   1.082594\n",
      "12       Self_Employed_Yes   1.049295\n",
      "13          Area_Semiurban   1.501173\n",
      "14              Area_Urban   1.488556\n",
      "15                Status_Y   1.463456\n"
     ]
    }
   ],
   "source": [
    "# Print VIF values\n",
    "print(vif_data)"
   ]
  },
  {
   "cell_type": "markdown",
   "id": "c9304369",
   "metadata": {
    "papermill": {
     "duration": 0.003774,
     "end_time": "2025-02-18T16:47:05.448894",
     "exception": false,
     "start_time": "2025-02-18T16:47:05.445120",
     "status": "completed"
    },
    "tags": []
   },
   "source": [
    "**Key Observations:**\n",
    "\n",
    "*Constant (const) → 50.70*\n",
    "\n",
    "1. This is expected to be high. It represents the intercept, and we can ignore this value.\n",
    "Independent Variables (All ≤ 1.5)\n",
    "\n",
    "2. All features have VIF below 5, meaning no significant multicollinearity is present.\n",
    "This suggests that each variable provides independent information to the model.\n",
    "Highest VIF Values (Still Acceptable)\n",
    "\n",
    "3. Loan_Amount (1.47), Area_Semiurban (1.50), Area_Urban (1.49)\n",
    "These values are far below 5, so there is no severe collinearity.\n",
    "\n",
    "\n",
    "✅ No strong multicollinearity detected → The model should work fine.\n",
    "\n",
    "✅ No need to drop or transform variables → Since all VIFs are low.\n"
   ]
  },
  {
   "cell_type": "code",
   "execution_count": 11,
   "id": "f2836847",
   "metadata": {
    "execution": {
     "iopub.execute_input": "2025-02-18T16:47:05.458525Z",
     "iopub.status.busy": "2025-02-18T16:47:05.458149Z",
     "iopub.status.idle": "2025-02-18T16:47:05.996962Z",
     "shell.execute_reply": "2025-02-18T16:47:05.995814Z"
    },
    "papermill": {
     "duration": 0.545781,
     "end_time": "2025-02-18T16:47:05.998953",
     "exception": false,
     "start_time": "2025-02-18T16:47:05.453172",
     "status": "completed"
    },
    "tags": []
   },
   "outputs": [],
   "source": [
    "from sklearn.tree import DecisionTreeRegressor\n",
    "from sklearn.model_selection import train_test_split\n",
    "from sklearn.metrics import r2_score"
   ]
  },
  {
   "cell_type": "code",
   "execution_count": 12,
   "id": "a9f70ccc",
   "metadata": {
    "execution": {
     "iopub.execute_input": "2025-02-18T16:47:06.008842Z",
     "iopub.status.busy": "2025-02-18T16:47:06.008451Z",
     "iopub.status.idle": "2025-02-18T16:47:06.088724Z",
     "shell.execute_reply": "2025-02-18T16:47:06.087412Z"
    },
    "papermill": {
     "duration": 0.087426,
     "end_time": "2025-02-18T16:47:06.090713",
     "exception": false,
     "start_time": "2025-02-18T16:47:06.003287",
     "status": "completed"
    },
    "tags": []
   },
   "outputs": [
    {
     "name": "stdout",
     "output_type": "stream",
     "text": [
      "                   Feature       R^2\n",
      "0         Applicant_Income -0.534105\n",
      "1       Coapplicant_Income -0.287240\n",
      "2              Loan_Amount -0.539080\n",
      "3                     Term -0.076980\n",
      "4           Credit_History  0.387557\n",
      "5              Gender_Male -0.036321\n",
      "6              Married_Yes -0.020374\n",
      "7             Dependents_1 -0.033771\n",
      "8             Dependents_2 -0.026825\n",
      "9            Dependents_3+ -0.037334\n",
      "10  Education_Not Graduate -0.026508\n",
      "11       Self_Employed_Yes -0.036095\n",
      "12          Area_Semiurban -0.016739\n",
      "13              Area_Urban -0.034599\n"
     ]
    }
   ],
   "source": [
    "# Target variable (loan approval status)\n",
    "y = df_encoded['Status_Y']\n",
    "\n",
    "# Drop the target variable to get the independent variables\n",
    "X = df_encoded.drop(['Status_Y'], axis=1)\n",
    "\n",
    "# Initialize the Decision Tree Regressor model\n",
    "tree_regressor = DecisionTreeRegressor(random_state=42)\n",
    "\n",
    "# Store the explained variance (R^2) for each feature\n",
    "explained_variance = {}\n",
    "\n",
    "# Fit the model for each feature individually and calculate R^2\n",
    "for feature in X.columns:\n",
    "    # Reshape feature to 2D array for fitting\n",
    "    X_feature = X[[feature]]\n",
    "    \n",
    "    # Split into training and testing sets\n",
    "    X_train, X_test, y_train, y_test = train_test_split(X_feature, y, test_size=0.3, random_state=42)\n",
    "    \n",
    "    # Fit the decision tree model\n",
    "    tree_regressor.fit(X_train, y_train)\n",
    "    \n",
    "    # Predict on the test set\n",
    "    y_pred = tree_regressor.predict(X_test)\n",
    "    \n",
    "    # Calculate R^2 (coefficient of determination)\n",
    "    r2 = r2_score(y_test, y_pred)\n",
    "    \n",
    "    # Store the result\n",
    "    explained_variance[feature] = r2\n",
    "\n",
    "# Display the explained variance (R^2) for each feature\n",
    "explained_variance_df = pd.DataFrame(list(explained_variance.items()), columns=['Feature', 'R^2'])\n",
    "print(explained_variance_df)"
   ]
  },
  {
   "cell_type": "markdown",
   "id": "28bf1985",
   "metadata": {
    "papermill": {
     "duration": 0.00379,
     "end_time": "2025-02-18T16:47:06.098777",
     "exception": false,
     "start_time": "2025-02-18T16:47:06.094987",
     "status": "completed"
    },
    "tags": []
   },
   "source": [
    "Credit_History is the most important feature in predicting loan approval status, with a moderate positive R².\n",
    "\n",
    "Most other features have negative or very low R², which implies that they either do not have a direct or significant relationship with loan approval or they may be proxy variables that introduce bias.\n",
    "\n",
    "In a practical scenario, this suggests that the model should potentially focus more on the credit history of the applicant and avoid overfitting to features that do not explain much of the target variable’s variance."
   ]
  }
 ],
 "metadata": {
  "kaggle": {
   "accelerator": "none",
   "dataSources": [
    {
     "datasetId": 5053224,
     "sourceId": 8473979,
     "sourceType": "datasetVersion"
    }
   ],
   "dockerImageVersionId": 30886,
   "isGpuEnabled": false,
   "isInternetEnabled": true,
   "language": "python",
   "sourceType": "notebook"
  },
  "kernelspec": {
   "display_name": "Python 3",
   "language": "python",
   "name": "python3"
  },
  "language_info": {
   "codemirror_mode": {
    "name": "ipython",
    "version": 3
   },
   "file_extension": ".py",
   "mimetype": "text/x-python",
   "name": "python",
   "nbconvert_exporter": "python",
   "pygments_lexer": "ipython3",
   "version": "3.10.12"
  },
  "papermill": {
   "default_parameters": {},
   "duration": 7.319214,
   "end_time": "2025-02-18T16:47:06.823018",
   "environment_variables": {},
   "exception": null,
   "input_path": "__notebook__.ipynb",
   "output_path": "__notebook__.ipynb",
   "parameters": {},
   "start_time": "2025-02-18T16:46:59.503804",
   "version": "2.6.0"
  }
 },
 "nbformat": 4,
 "nbformat_minor": 5
}
